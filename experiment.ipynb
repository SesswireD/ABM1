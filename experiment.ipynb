{
 "cells": [
  {
   "cell_type": "code",
   "execution_count": 1,
   "metadata": {},
   "outputs": [],
   "source": [
    "from model import GeoModel\n",
    "from matplotlib import colors\n",
    "import matplotlib.pyplot as plt\n",
    "from matplotlib.image import imsave\n",
    "import os\n",
    "from multiprocess import Pool"
   ]
  },
  {
   "cell_type": "code",
   "execution_count": 4,
   "metadata": {},
   "outputs": [],
   "source": [
    "replicates = 4 # set the number of model run"
   ]
  },
  {
   "cell_type": "code",
   "execution_count": 5,
   "metadata": {},
   "outputs": [],
   "source": [
    "# set folder and name of the files here as the multiprocessing takes only one argument in this configuration\n",
    "\n",
    "def model_run(i, folder='experiment3', name='') -> None:\n",
    "    model = GeoModel()\n",
    "    model.run_model(step_count=170)\n",
    "    array = model.extract_image()\n",
    "    array[array >= 1] = 1\n",
    "\n",
    "    if not os.path.isdir(folder):\n",
    "        os.mkdir(folder)\n",
    "    imsave(folder+'/'+name+str(i)+'.png', array[0], cmap='Greys')\n",
    "\n",
    "    return None"
   ]
  },
  {
   "cell_type": "code",
   "execution_count": 6,
   "metadata": {},
   "outputs": [],
   "source": [
    "# use mulitprocessing to run models in parallel\n",
    "if __name__ == '__main__':\n",
    "    pool = Pool(os.cpu_count())\n",
    "    pool.map(model_run, range(replicates))\n",
    "    pool.close"
   ]
  },
  {
   "cell_type": "code",
   "execution_count": null,
   "metadata": {},
   "outputs": [],
   "source": []
  }
 ],
 "metadata": {
  "kernelspec": {
   "display_name": "ABM",
   "language": "python",
   "name": "python3"
  },
  "language_info": {
   "codemirror_mode": {
    "name": "ipython",
    "version": 3
   },
   "file_extension": ".py",
   "mimetype": "text/x-python",
   "name": "python",
   "nbconvert_exporter": "python",
   "pygments_lexer": "ipython3",
   "version": "3.10.8"
  },
  "orig_nbformat": 4,
  "vscode": {
   "interpreter": {
    "hash": "3dd26d5366d44ebd9f75e801d4379ee901cd05b33c55ee2c3c629088b8d8b0e0"
   }
  }
 },
 "nbformat": 4,
 "nbformat_minor": 2
}
