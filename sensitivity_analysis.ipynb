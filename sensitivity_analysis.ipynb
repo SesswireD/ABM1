{
 "cells": [
  {
   "cell_type": "code",
   "execution_count": null,
   "metadata": {},
   "outputs": [],
   "source": [
    "%matplotlib inline\n",
    "from SALib.sample import saltelli\n",
    "# from wolf_sheep.model import WolfSheep\n",
    "# from wolf_sheep.agents import Wolf, Sheep\n",
    "from mesa.batchrunner import BatchRunner\n",
    "from SALib.analyze import sobol\n",
    "import pandas as pd\n",
    "import numpy as np\n",
    "import matplotlib.pyplot as plt\n",
    "from itertools import combinations\n",
    "from model import GeoModel\n",
    "from multiprocess import Pool\n",
    "import os\n",
    "%load_ext autoreload\n",
    "%autoreload 2"
   ]
  },
  {
   "attachments": {},
   "cell_type": "markdown",
   "metadata": {},
   "source": [
    "## Sobol analyses"
   ]
  },
  {
   "cell_type": "code",
   "execution_count": null,
   "metadata": {},
   "outputs": [],
   "source": [
    "# We define our variables and bounds\n",
    "problem = {\n",
    "    'num_vars': 5,\n",
    "    'names': ['num_buildings', 'num_destinations', 'trace_strength', 'agent_vision_angle', 'agent_vision_samples'],\n",
    "    'bounds': [[50,100], [3,10], [10,100], [7.5,90], [3,15]]\n",
    "    # 'bounds': [[50,100,2], [2,10,2], [10,100,2], [7.5,90,2], [3,15,2]]\n",
    "}\n",
    "\n",
    "# Set the repetitions, the amount of steps, and the amount of distinct values per variable\n",
    "replicates = 30\n",
    "max_steps = 170\n",
    "distinct_samples = 10\n",
    "\n",
    "model_reporters = {'Avg_raster_value': lambda m: m.avg_raster_value}\n",
    "\n",
    "# We get all our samples here\n",
    "param_values = saltelli.sample(problem, distinct_samples)\n",
    "\n",
    "# READ NOTE BELOW CODE\n",
    "batch = BatchRunner(GeoModel,\n",
    "                    max_steps=max_steps,\n",
    "                    variable_parameters={name:[] for name in problem['names']},\n",
    "                    model_reporters=model_reporters)\n",
    "\n",
    "count = 0\n",
    "data = pd.DataFrame(index=range(replicates*len(param_values)), \n",
    "                                columns=['num_buildings', 'num_destinations', 'trace_strength', 'agents_vision_angle', 'agent_vision_samples'])\n",
    "data['Run'], data['Avg_raster_value'] = None, None\n",
    "\n",
    "rep_values = []\n",
    "for i in range(replicates):\n",
    "    rep_values.append(param_values)"
   ]
  },
  {
   "cell_type": "code",
   "execution_count": null,
   "metadata": {},
   "outputs": [],
   "source": [
    "# define function for mulitprocessing\n",
    "def vals_run(param_values):\n",
    "    data = pd.DataFrame(index=range(len(param_values)), \n",
    "                                columns=['num_buildings', 'num_destinations', 'trace_strength', 'agents_vision_angle', 'agent_vision_samples'])\n",
    "    data['Run'], data['Avg_raster_value'] = None, None\n",
    "\n",
    "    count = 0\n",
    "    for vals in param_values: \n",
    "            # Change parameters that should be integers\n",
    "            vals = list(vals)\n",
    "            vals[0] = int(vals[0])\n",
    "            vals[1] = int(vals[1])\n",
    "            vals[2] = int(vals[2])\n",
    "            vals[4] = int(vals[4])\n",
    "            # Transform to dict with parameter names and their values\n",
    "            variable_parameters = {}\n",
    "            for name, val in zip(problem['names'], vals):\n",
    "                variable_parameters[name] = val\n",
    "\n",
    "            batch.run_iteration(variable_parameters, tuple(vals), count)\n",
    "            iteration_data = batch.get_model_vars_dataframe().iloc[count]\n",
    "            iteration_data['Run'] = count # Don't know what causes this, but iteration number is not correctly filled\n",
    "            data.iloc[count, 0:5] = vals\n",
    "            data.iloc[count, 5:7] = iteration_data\n",
    "            count += 1\n",
    "    \n",
    "    return data"
   ]
  },
  {
   "cell_type": "code",
   "execution_count": null,
   "metadata": {},
   "outputs": [],
   "source": [
    "# run multiprocessing\n",
    "if __name__ == '__main__':\n",
    "    pool = Pool((os.cpu_count()))\n",
    "    results = pool.map(vals_run, rep_values)\n",
    "    pool.close"
   ]
  },
  {
   "cell_type": "code",
   "execution_count": null,
   "metadata": {},
   "outputs": [],
   "source": [
    "# concat the list of dataframs into one and save it as .csv\n",
    "final_data = pd.concat(results, ignore_index=True)\n",
    "final_data.to_csv('data/sobol_results.csv')"
   ]
  },
  {
   "attachments": {},
   "cell_type": "markdown",
   "metadata": {},
   "source": [
    "## OFAT"
   ]
  },
  {
   "cell_type": "code",
   "execution_count": null,
   "metadata": {},
   "outputs": [],
   "source": [
    "from mesa.batchrunner import BatchRunnerMP"
   ]
  },
  {
   "cell_type": "code",
   "execution_count": null,
   "metadata": {},
   "outputs": [],
   "source": [
    "if __name__ == '__main__':\n",
    "    # We define our variables and bounds\n",
    "    problem = {\n",
    "        'num_vars': 5,\n",
    "        'names': ['num_buildings', 'num_destinations', 'trace_strength', 'agent_vision_angle', 'agent_vision_samples'],\n",
    "        'bounds': [[50,100,11], [3,10,8], [10,100,10], [7.5,90,12], [3,15,7]]\n",
    "        # 'bounds': [[50,100,2], [2,10,2], [10,100,2], [7.5,90,2], [3,15,2]]\n",
    "    }\n",
    "\n",
    "    # Set the repetitions, the amount of steps, and the amount of distinct values per variable\n",
    "    replicates = 30\n",
    "    max_steps = 170\n",
    "\n",
    "    # Set the outputs\n",
    "    model_reporters = {'Avg_raster_value': lambda m: m.avg_raster_value}\n",
    "\n",
    "    data = pd.DataFrame()\n",
    "\n",
    "    for i, var in enumerate(problem['names']):\n",
    "        # Get the bounds for this variable and get <distinct_samples> samples within this space (uniform)\n",
    "        samples = np.linspace(*problem['bounds'][i], dtype=int)\n",
    "        \n",
    "        # # Keep in mind that wolf_gain_from_food should be integers. You will have to change\n",
    "        # # your code to acommodate for this or sample in such a way that you only get integers.\n",
    "        if var == 'agent_vision_angle':\n",
    "            samples = np.linspace(*problem['bounds'][i])\n",
    "        \n",
    "        # use BatchRunnerMP for multiprocessing\n",
    "        batch = BatchRunnerMP(GeoModel, nr_processes = None,\n",
    "                            max_steps=max_steps,\n",
    "                            iterations=replicates,\n",
    "                            variable_parameters={var: samples},\n",
    "                            model_reporters=model_reporters,\n",
    "                            display_progress=True)\n",
    "        \n",
    "        batch.run_all()\n",
    "        \n",
    "        data = pd.concat([data, batch.get_model_vars_dataframe()])\n",
    "        data.to_csv('data/OFAT_data.csv')"
   ]
  }
 ],
 "metadata": {
  "kernelspec": {
   "display_name": "IntroCLS",
   "language": "python",
   "name": "python3"
  },
  "language_info": {
   "name": "python",
   "version": "3.10.8 | packaged by conda-forge | (main, Nov 22 2022, 08:25:29) [Clang 14.0.6 ]"
  },
  "orig_nbformat": 4,
  "vscode": {
   "interpreter": {
    "hash": "29a296737adad241676316a190c62d1d03c98f7c55f74200432452830af23483"
   }
  }
 },
 "nbformat": 4,
 "nbformat_minor": 2
}
